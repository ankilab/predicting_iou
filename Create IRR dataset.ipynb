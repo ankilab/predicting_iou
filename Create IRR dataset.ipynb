{
 "cells": [
  {
   "cell_type": "markdown",
   "id": "7bcbf5b6",
   "metadata": {},
   "source": [
    "Creating the dataset for the IRR study"
   ]
  },
  {
   "cell_type": "code",
   "execution_count": null,
   "id": "64fdb47f",
   "metadata": {},
   "outputs": [],
   "source": [
    "from PIL import Image\n",
    "import imageio as io\n",
    "import numpy as np\n",
    "from ipywidgets import interact\n",
    "import pandas as pd\n",
    "\n",
    "def imshow(fn):\n",
    "    \"\"\"Quick image show routine using PIL\n",
    "\n",
    "    Args:\n",
    "        fn (str): file name\n",
    "\n",
    "    Returns:\n",
    "        Image: the opened file as Image\n",
    "    \"\"\"\n",
    "    arr = io.v3.imread(fn)\n",
    "    return Image.fromarray(arr)"
   ]
  },
  {
   "cell_type": "markdown",
   "id": "1d494f8e",
   "metadata": {},
   "source": [
    "Show some samples of the dataset"
   ]
  },
  {
   "cell_type": "code",
   "execution_count": 6,
   "id": "d3f593af",
   "metadata": {},
   "outputs": [
    {
     "data": {
      "application/vnd.jupyter.widget-view+json": {
       "model_id": "cc1d6e1244f74de8a81eb087c604a967",
       "version_major": 2,
       "version_minor": 0
      },
      "text/plain": [
       "interactive(children=(IntSlider(value=42, description='seed'), IntSlider(value=0, description='i', max=99), Ou…"
      ]
     },
     "metadata": {},
     "output_type": "display_data"
    }
   ],
   "source": [
    "@interact\n",
    "def showSamples(seed:(0,100)=1, i:(0,99)=0):\n",
    "    N  = 55750 \n",
    "    xi = np.arange(N)\n",
    "    np.random.seed(seed)\n",
    "    np.random.shuffle(xi)\n",
    "    \n",
    "    return imshow(f\"training_224x224/{xi[i]}.png\")"
   ]
  },
  {
   "cell_type": "markdown",
   "id": "5bd613fc",
   "metadata": {},
   "source": [
    "Generate the dataset"
   ]
  },
  {
   "cell_type": "code",
   "execution_count": null,
   "id": "55b7b20c",
   "metadata": {},
   "outputs": [],
   "source": [
    "# Take a random subset of 100 images using random seed 1\n",
    "N  = 55750 \n",
    "xi = np.arange(N)\n",
    "np.random.seed(1)\n",
    "np.random.shuffle(xi)\n",
    "\n",
    "# Save the filenames\n",
    "fns = xi[:100].copy()\n",
    "\n",
    "to_df = []\n",
    "\n",
    "# We create three sets of the same images\n",
    "# to compute inter- and intra-rater reliability\n",
    "for round_i in range(1,4):\n",
    "    folder = f\"IRR/Round {round_i}\"\n",
    "    \n",
    "    np.random.shuffle(fns)\n",
    "    \n",
    "    for i, fn in enumerate(fns):\n",
    "        im = io.v3.imread(f\"training_224x224/{fn}.png\")\n",
    "        io.v3.imwrite(folder+f\"/{i}.png\", im)\n",
    "        \n",
    "        to_df.append({\n",
    "            'round_i': round_i,\n",
    "            'new_im_id': i,\n",
    "            'im_id': fn\n",
    "        })"
   ]
  },
  {
   "cell_type": "markdown",
   "id": "1c967684",
   "metadata": {},
   "source": [
    "Save look-up table as CSV"
   ]
  },
  {
   "cell_type": "code",
   "execution_count": null,
   "id": "f749c644",
   "metadata": {},
   "outputs": [],
   "source": [
    "df = pd.DataFrame(to_df)\n",
    "df.to_csv(\"IRR_LUT.csv\")"
   ]
  }
 ],
 "metadata": {
  "kernelspec": {
   "display_name": "Python 3 (ipykernel)",
   "language": "python",
   "name": "python3"
  },
  "language_info": {
   "codemirror_mode": {
    "name": "ipython",
    "version": 3
   },
   "file_extension": ".py",
   "mimetype": "text/x-python",
   "name": "python",
   "nbconvert_exporter": "python",
   "pygments_lexer": "ipython3",
   "version": "3.9.7"
  }
 },
 "nbformat": 4,
 "nbformat_minor": 5
}
