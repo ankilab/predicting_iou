{
 "cells": [
  {
   "cell_type": "code",
   "execution_count": null,
   "id": "446f1e20",
   "metadata": {},
   "outputs": [
    {
     "name": "stderr",
     "output_type": "stream",
     "text": [
      "2022-06-22 12:12:34.642881: I tensorflow/stream_executor/platform/default/dso_loader.cc:49] Successfully opened dynamic library libcudart.so.10.1\n"
     ]
    },
    {
     "name": "stdout",
     "output_type": "stream",
     "text": [
      "Segmentation Models: using `tf.keras` framework.\n"
     ]
    }
   ],
   "source": [
    "import tensorflow as tf\n",
    "import numpy as np\n",
    "import matplotlib.pyplot as plt\n",
    "%matplotlib inline\n",
    "import imageio as io\n",
    "from ipywidgets import interact\n",
    "from perlin_numpy import generate_perlin_noise_2d\n",
    "from scipy.ndimage import binary_dilation, binary_erosion\n",
    "from skimage.draw import disk\n",
    "from skimage.filters import sobel"
   ]
  },
  {
   "cell_type": "code",
   "execution_count": 2,
   "id": "6042c002",
   "metadata": {},
   "outputs": [
    {
     "data": {
      "text/plain": [
       "True"
      ]
     },
     "execution_count": 2,
     "metadata": {},
     "output_type": "execute_result"
    }
   ],
   "source": [
    "tf.executing_eagerly()"
   ]
  },
  {
   "cell_type": "markdown",
   "id": "b4fde6d3",
   "metadata": {},
   "source": [
    "Check Perlin noise"
   ]
  },
  {
   "cell_type": "code",
   "execution_count": 4,
   "id": "9c57db75",
   "metadata": {},
   "outputs": [
    {
     "data": {
      "application/vnd.jupyter.widget-view+json": {
       "model_id": "7b5536b217fb4bcba6e82a94108fb643",
       "version_major": 2,
       "version_minor": 0
      },
      "text/plain": [
       "interactive(children=(IntSlider(value=1, description='i', max=5), FloatSlider(value=0.8, description='t', max=…"
      ]
     },
     "metadata": {},
     "output_type": "display_data"
    }
   ],
   "source": [
    "@interact\n",
    "def testInteract(i:(0,5,1)=1, t:(0.8,1,.01)=0):\n",
    "    np.random.seed(0)\n",
    "    n = generate_perlin_noise_2d((256, 256), (2**i,2**i))\n",
    "    \n",
    "    n = (n - n.min())/(n.max()-n.min())\n",
    "    plt.imshow(n > t)\n",
    "    plt.colorbar()"
   ]
  },
  {
   "cell_type": "markdown",
   "id": "9fb1111f",
   "metadata": {},
   "source": [
    "Creating a fast IoU computation function"
   ]
  },
  {
   "cell_type": "code",
   "execution_count": null,
   "id": "de098f2a",
   "metadata": {},
   "outputs": [],
   "source": [
    "im = io.v3.imread(\"training/0.png\")\n",
    "seg = io.v3.imread(\"training/0_seg.png\")\n",
    "\n",
    "plt.imshow(seg)"
   ]
  },
  {
   "cell_type": "code",
   "execution_count": 9,
   "id": "6a55d0c7",
   "metadata": {},
   "outputs": [],
   "source": [
    "def fast_iou(gt, pr, eps=1e-7):\n",
    "    a = gt.astype(bool)\n",
    "    b = pr.astype(bool)\n",
    "    \n",
    "    i = a * b\n",
    "    u = a + b\n",
    "    \n",
    "    iou = np.count_nonzero(i) / (np.count_nonzero(u) + eps)\n",
    "    \n",
    "    return iou"
   ]
  },
  {
   "cell_type": "code",
   "execution_count": 10,
   "id": "b4511bf3",
   "metadata": {},
   "outputs": [
    {
     "data": {
      "text/plain": [
       "0.9999999997409326"
      ]
     },
     "execution_count": 10,
     "metadata": {},
     "output_type": "execute_result"
    }
   ],
   "source": [
    "fast_iou(seg,seg)"
   ]
  },
  {
   "cell_type": "markdown",
   "id": "c53e22c6",
   "metadata": {},
   "source": [
    "Creating Training Pairs using some hyperparameters"
   ]
  },
  {
   "cell_type": "code",
   "execution_count": null,
   "id": "960deaef",
   "metadata": {},
   "outputs": [],
   "source": [
    "def createTrainingPair(seg, p_dilation=0.1, p_erosion=0.1, p_noise=0.1, p_disk=0.1, p_contour=0.1):\n",
    "    new_seg = seg.copy() > 0\n",
    "    \n",
    "    if np.random.uniform() <= p_contour:\n",
    "        seg_edges = sobel(seg)\n",
    "        seg_edges = binary_dilation(seg_edges)\n",
    "        new_seg[seg_edges.astype(np.float32) * np.random.uniform() > np.random.uniform()] = np.random.choice([True, False])\n",
    "        \n",
    "    \n",
    "    if np.random.uniform() <= p_disk:\n",
    "        x = np.asarray(np.where(new_seg))\n",
    "        \n",
    "        if x.shape[1]:\n",
    "            for _ in range(np.random.randint(1,5)):\n",
    "                ix = np.random.randint(0, x.shape[1])\n",
    "\n",
    "                try:\n",
    "                    rr, cc = disk(x[:, ix], np.random.uniform(1,3), shape=new_seg.shape)\n",
    "\n",
    "                    new_seg[rr,cc] = np.random.choice([True, False])\n",
    "                except:\n",
    "                    pass\n",
    "\n",
    "    if np.random.uniform() <= p_dilation:\n",
    "        # print(\"Dilate...\")\n",
    "        for _ in range(np.random.randint(1,5)):\n",
    "            new_seg = binary_dilation(new_seg)\n",
    "\n",
    "    if np.random.uniform() <= p_erosion:\n",
    "        # print(\"Erode...\")\n",
    "        for _ in range(np.random.randint(1,5)):\n",
    "            new_seg = binary_erosion(new_seg)\n",
    "            \n",
    "    if np.random.uniform() <= p_noise:\n",
    "        # print(\"Perlin noise...\")\n",
    "        i = np.random.randint(0, 4)\n",
    "        t = np.random.uniform(0.9, 0.99)\n",
    "        \n",
    "        n = generate_perlin_noise_2d(seg.shape, (2**i,2**i))\n",
    "        n = (n - n.min())/(n.max()-n.min())\n",
    "        \n",
    "        new_seg[n > t] = np.random.choice([True, False])\n",
    "        \n",
    "    # print(\"IoU score...\")\n",
    "    y = fast_iou(seg, new_seg)\n",
    "    \n",
    "    # print(\"Done!\")\n",
    "    \n",
    "    return new_seg, y"
   ]
  },
  {
   "cell_type": "markdown",
   "id": "b8badd09",
   "metadata": {},
   "source": [
    "Test the function and show random samples"
   ]
  },
  {
   "cell_type": "code",
   "execution_count": 73,
   "id": "5f47c815",
   "metadata": {},
   "outputs": [],
   "source": [
    "new_seg, y = createTrainingPair(seg, 0,0,0,0,1.)"
   ]
  },
  {
   "cell_type": "code",
   "execution_count": 67,
   "id": "54482f50",
   "metadata": {},
   "outputs": [
    {
     "data": {
      "application/vnd.jupyter.widget-view+json": {
       "model_id": "b09e5e5cf68746dca184569b08ac1144",
       "version_major": 2,
       "version_minor": 0
      },
      "text/plain": [
       "interactive(children=(IntSlider(value=0, description='i', max=10), Output()), _dom_classes=('widget-interact',…"
      ]
     },
     "metadata": {},
     "output_type": "display_data"
    }
   ],
   "source": [
    "@interact\n",
    "def showRandomSamples(i:(0,10)=0):\n",
    "    new_seg, y = createTrainingPair(seg, .7, .7, .3, .1)\n",
    "    \n",
    "    plt.imshow(new_seg)\n",
    "    plt.title(f\"IoU: {y}\")"
   ]
  }
 ],
 "metadata": {
  "kernelspec": {
   "display_name": "Python 3 (ipykernel)",
   "language": "python",
   "name": "python3"
  },
  "language_info": {
   "codemirror_mode": {
    "name": "ipython",
    "version": 3
   },
   "file_extension": ".py",
   "mimetype": "text/x-python",
   "name": "python",
   "nbconvert_exporter": "python",
   "pygments_lexer": "ipython3",
   "version": "3.9.7"
  }
 },
 "nbformat": 4,
 "nbformat_minor": 5
}
